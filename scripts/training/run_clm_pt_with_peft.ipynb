{
 "cells": [
  {
   "cell_type": "code",
   "execution_count": null,
   "metadata": {},
   "outputs": [],
   "source": [
    "def compute_metrics(eval_preds):\n",
    "    preds, labels = eval_preds\n",
    "    # preds have the same shape as the labels, after the argmax(-1) has been calculated\n",
    "    # by preprocess_logits_for_metrics but we need to shift the labels\n",
    "    labels = labels[:, 1:].reshape(-1)\n",
    "    preds = preds[:, :-1].reshape(-1)\n",
    "    return accuracy(predictions=preds, references=labels)"
   ]
  },
  {
   "cell_type": "markdown",
   "metadata": {},
   "source": [
    "这段代码定义了一个名为`compute_metrics`的函数，它的作用是计算模型在评估（或验证）阶段的性能指标。这里主要关注的性能指标依然是准确率。下面我们逐行解释它的功能：\n",
    "\n",
    "### 函数定义\n",
    "```python\n",
    "def compute_metrics(eval_preds):\n",
    "```\n",
    "这行代码定义了一个名为`compute_metrics`的函数，它接收一个参数`eval_preds`，这个参数通常是一个包含两个部分的元组（tuple），第一部分是模型的预测结果，第二部分是对应的真实标签。\n",
    "\n",
    "### 数据处理\n",
    "```python\n",
    "    preds, labels = eval_preds\n",
    "```\n",
    "这行代码将元组`eval_preds`分解为两个变量`preds`和`labels`，`preds`是模型的预测结果，`labels`是真实标签。\n",
    "\n",
    "```python\n",
    "    labels = labels[:, 1:].reshape(-1)\n",
    "    preds = preds[:, :-1].reshape(-1)\n",
    "```\n",
    "这两行代码对`labels`和`preds`进行了处理：\n",
    "- `labels[:, 1:]`取`labels`数组的每一行，从第二个元素到最后一个元素，这个操作可能是为了去掉一些特殊的标签，比如在序列任务中，第一个标签可能是起始符号，不需要考虑在准确率计算中。\n",
    "- `preds[:, :-1]`取`preds`数组的每一行，从第一个元素到倒数第二个元素，这可能是为了与`labels`对齐，去掉预测序列中最后一个元素，通常是终止符号。\n",
    "- `.reshape(-1)`将二维数组变形成一维数组，以便计算准确率。`-1`表示自动计算这一维的大小。\n",
    "\n",
    "### 计算并返回准确率\n",
    "```python\n",
    "    return accuracy(predictions=preds, references=labels)\n",
    "```\n",
    "这行代码调用了之前定义的`accuracy`函数，用处理过的预测结果`preds`和标签`labels`来计算准确率。\n",
    "\n",
    "整个`compute_metrics`函数的作用是接收模型的预测结果和真实标签，对它们进行预处理以确保数据格式正确，然后计算并返回模型的准确率。这样我们就可以知道模型在验证阶段的表现如何，从而作出相应的调整和改进。"
   ]
  }
 ],
 "metadata": {
  "language_info": {
   "name": "python"
  }
 },
 "nbformat": 4,
 "nbformat_minor": 2
}
